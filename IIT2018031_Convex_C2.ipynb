{
  "nbformat": 4,
  "nbformat_minor": 0,
  "metadata": {
    "colab": {
      "name": "IIT2018031_Convex_C2.ipynb",
      "provenance": []
    },
    "kernelspec": {
      "name": "python3",
      "display_name": "Python 3"
    },
    "language_info": {
      "name": "python"
    }
  },
  "cells": [
    {
      "cell_type": "code",
      "metadata": {
        "id": "iJrOgrXBONzs"
      },
      "source": [
        "#Name :- Raushan Raj\n",
        "#Roll No :- IIT2018031\n",
        "#Convex_Lab_Assignment2"
      ],
      "execution_count": null,
      "outputs": []
    },
    {
      "cell_type": "code",
      "metadata": {
        "id": "VduCsT67cVoR"
      },
      "source": [
        "from scipy import optimize\n",
        "import numpy as np"
      ],
      "execution_count": null,
      "outputs": []
    },
    {
      "cell_type": "code",
      "metadata": {
        "id": "HpfCnmQecdX3"
      },
      "source": [
        "def f1(x):\n",
        "  return 0.5*(x[0]**2 + 10*x[1]**2)\n",
        "\n",
        "def jacobian_f1(x):\n",
        "  return np.array((x[0] , 10*x[1]))\n",
        "\n",
        "def f2(x):\n",
        "  return 100*(x[1] - x[0]**2)**2 + (1 - x[0])**2\n",
        "\n",
        "def jacobian_f2(x):\n",
        "  return np.array((-400*(x[1] - x[0]**2)*x[0] -2*(1 - x[0]) , 200*(x[1] - x[0]**2 )))\n",
        "\n",
        "def f3(x):\n",
        "  return np.exp(x[0] + 3*x[1] - 0.1) + np.exp(x[0] - 3*x[1] - 0.1) + np.exp(-x[0] - 0.1)\n",
        "\n",
        "def jacobian_f3(x):\n",
        "  return np.array(( np.exp(x[0] + 3*x[1] - 0.1) + np.exp(x[0] - 3*x[1] - 0.1) - np.exp(-x[0] - 0.1) , \n",
        "                   3*np.exp(x[0] + 3*x[1] - 0.1) - 3*np.exp(x[0] - 3*x[1] - 0.1) ))"
      ],
      "execution_count": null,
      "outputs": []
    },
    {
      "cell_type": "markdown",
      "metadata": {
        "id": "t_nMqGc2d7Z0"
      },
      "source": [
        "Conjugate gradient"
      ]
    },
    {
      "cell_type": "markdown",
      "metadata": {
        "id": "-lhk99ftdFGT"
      },
      "source": [
        "\n",
        "\n",
        "\n",
        "1.   nfev : number of function evaluations\n",
        "2.   njev : number of Jacobian evaluations\n",
        "3.   nit : number of iterations of the algorithm\n"
      ]
    },
    {
      "cell_type": "code",
      "metadata": {
        "colab": {
          "base_uri": "https://localhost:8080/"
        },
        "id": "XCQ7c73Qcs6_",
        "outputId": "667483a8-f286-4bb5-b2fa-bac3a3c75967"
      },
      "source": [
        "optimize.minimize(f1, [-5, 5], method=\"CG\",tol=0.00001)  "
      ],
      "execution_count": null,
      "outputs": [
        {
          "output_type": "execute_result",
          "data": {
            "text/plain": [
              "     fun: 1.5924716746766052e-16\n",
              "     jac: array([1.13528336e-08, 1.29575467e-07])\n",
              " message: 'Optimization terminated successfully.'\n",
              "    nfev: 52\n",
              "     nit: 7\n",
              "    njev: 13\n",
              "  status: 0\n",
              " success: True\n",
              "       x: array([3.90225301e-09, 5.50696610e-09])"
            ]
          },
          "metadata": {
            "tags": []
          },
          "execution_count": 4
        }
      ]
    },
    {
      "cell_type": "code",
      "metadata": {
        "colab": {
          "base_uri": "https://localhost:8080/"
        },
        "id": "ht47MONrl1HN",
        "outputId": "19a8415f-6567-4773-9199-fe9eeef82942"
      },
      "source": [
        "optimize.minimize(f2, [3, -3], method=\"CG\")  "
      ],
      "execution_count": null,
      "outputs": [
        {
          "output_type": "execute_result",
          "data": {
            "text/plain": [
              "     fun: -26511.1575347012\n",
              "     jac: array([ 0.07080078, -0.99975586])\n",
              " message: 'Maximum number of iterations has been exceeded.'\n",
              "    nfev: 4928\n",
              "     nit: 400\n",
              "    njev: 1232\n",
              "  status: 1\n",
              " success: False\n",
              "       x: array([  162.82555092, 26512.1550347 ])"
            ]
          },
          "metadata": {
            "tags": []
          },
          "execution_count": 6
        }
      ]
    },
    {
      "cell_type": "code",
      "metadata": {
        "colab": {
          "base_uri": "https://localhost:8080/"
        },
        "id": "1uIvHlmq5Wze",
        "outputId": "d2faf43f-083b-4459-84aa-d05837334188"
      },
      "source": [
        "optimize.minimize(f3, [3, -3], method=\"CG\",tol=0.00001)  "
      ],
      "execution_count": null,
      "outputs": [
        {
          "output_type": "execute_result",
          "data": {
            "text/plain": [
              "     fun: 2.5592666966582156\n",
              "     jac: array([2.98023224e-08, 2.98023224e-08])\n",
              " message: 'Optimization terminated successfully.'\n",
              "    nfev: 96\n",
              "     nit: 11\n",
              "    njev: 24\n",
              "  status: 0\n",
              " success: True\n",
              "       x: array([-3.46573591e-01, -5.37310604e-09])"
            ]
          },
          "metadata": {
            "tags": []
          },
          "execution_count": 9
        }
      ]
    },
    {
      "cell_type": "markdown",
      "metadata": {
        "id": "9rVqfJK9eCHO"
      },
      "source": [
        "Newton Method"
      ]
    },
    {
      "cell_type": "code",
      "metadata": {
        "colab": {
          "base_uri": "https://localhost:8080/"
        },
        "id": "9loUXf85cxBz",
        "outputId": "eafa8e14-e232-4cf0-868e-ab43d546fa4d"
      },
      "source": [
        "optimize.minimize(f1, [-5, 5], method=\"Newton-CG\",jac=jacobian_f1,tol=0.00001)  \n"
      ],
      "execution_count": null,
      "outputs": [
        {
          "output_type": "execute_result",
          "data": {
            "text/plain": [
              "     fun: 4.99250108943969e-18\n",
              "     jac: array([-3.12268789e-09,  1.52912571e-09])\n",
              " message: 'Optimization terminated successfully.'\n",
              "    nfev: 4\n",
              "    nhev: 0\n",
              "     nit: 3\n",
              "    njev: 14\n",
              "  status: 0\n",
              " success: True\n",
              "       x: array([-3.12268789e-09,  1.52912571e-10])"
            ]
          },
          "metadata": {
            "tags": []
          },
          "execution_count": 10
        }
      ]
    },
    {
      "cell_type": "code",
      "metadata": {
        "colab": {
          "base_uri": "https://localhost:8080/"
        },
        "id": "B8Dvu61nmWpK",
        "outputId": "f5251ecb-58df-4cde-fd2d-1290846008ca"
      },
      "source": [
        "optimize.minimize(f2, [-5, 5], method=\"Newton-CG\",jac=jacobian_f2,tol=0.00001)  \n"
      ],
      "execution_count": null,
      "outputs": [
        {
          "output_type": "execute_result",
          "data": {
            "text/plain": [
              "     fun: -6.491953969517547\n",
              "     jac: array([ 0.36349966, -0.93359838])\n",
              " message: 'Warning: Maximum number of iterations has been exceeded.'\n",
              "    nfev: 404\n",
              "    nhev: 0\n",
              "     nit: 400\n",
              "    njev: 1999\n",
              "  status: 1\n",
              " success: False\n",
              "       x: array([-2.73874525,  7.49135987])"
            ]
          },
          "metadata": {
            "tags": []
          },
          "execution_count": 11
        }
      ]
    },
    {
      "cell_type": "code",
      "metadata": {
        "colab": {
          "base_uri": "https://localhost:8080/"
        },
        "id": "oDB-QWr35fd7",
        "outputId": "dff246a5-6a9d-485e-8a9e-d612e9397ac4"
      },
      "source": [
        "optimize.minimize(f3, [-5, 5], method=\"Newton-CG\",jac=jacobian_f3,tol=0.00001)  \n"
      ],
      "execution_count": null,
      "outputs": [
        {
          "output_type": "execute_result",
          "data": {
            "text/plain": [
              "     fun: 2.559266696658228\n",
              "     jac: array([-3.20532797e-07, -7.72669603e-05])\n",
              " message: 'Optimization terminated successfully.'\n",
              "    nfev: 16\n",
              "    nhev: 0\n",
              "     nit: 15\n",
              "    njev: 68\n",
              "  status: 0\n",
              " success: True\n",
              "       x: array([-3.46573688e-01,  1.47560285e-10])"
            ]
          },
          "metadata": {
            "tags": []
          },
          "execution_count": 12
        }
      ]
    },
    {
      "cell_type": "markdown",
      "metadata": {
        "id": "8cOlWDJlh9dP"
      },
      "source": [
        "Quasi-Newton methods: BFGS"
      ]
    },
    {
      "cell_type": "code",
      "metadata": {
        "colab": {
          "base_uri": "https://localhost:8080/"
        },
        "id": "9zwvdtr9el-P",
        "outputId": "b025e947-9d9f-425f-8daf-d4dadcf434f1"
      },
      "source": [
        "optimize.minimize(f1, [-5, 5], method=\"BFGS\", jac=jacobian_f1,tol = 0.00001) "
      ],
      "execution_count": null,
      "outputs": [
        {
          "output_type": "execute_result",
          "data": {
            "text/plain": [
              "      fun: 2.95095388912217e-12\n",
              " hess_inv: array([[1.00695585e+00, 8.45767498e-04],\n",
              "       [8.45767498e-04, 1.00102838e-01]])\n",
              "      jac: array([2.26753992e-06, 2.75711899e-06])\n",
              "  message: 'Optimization terminated successfully.'\n",
              "     nfev: 5\n",
              "      nit: 4\n",
              "     njev: 5\n",
              "   status: 0\n",
              "  success: True\n",
              "        x: array([2.26753992e-06, 2.75711899e-07])"
            ]
          },
          "metadata": {
            "tags": []
          },
          "execution_count": 13
        }
      ]
    },
    {
      "cell_type": "code",
      "metadata": {
        "id": "LBLhH3A9gg_j",
        "colab": {
          "base_uri": "https://localhost:8080/"
        },
        "outputId": "79efa8b8-dda6-4106-a6a3-2f3036836ca1"
      },
      "source": [
        "optimize.minimize(f2, [-5, 5], method=\"BFGS\", jac=jacobian_f2,tol = 0.00001) "
      ],
      "execution_count": null,
      "outputs": [
        {
          "output_type": "execute_result",
          "data": {
            "text/plain": [
              "      fun: -21618.49219767248\n",
              " hess_inv: array([[ 3.16217316e-03, -9.30487099e-01],\n",
              "       [-9.30487099e-01,  2.73805406e+02]])\n",
              "      jac: array([-48157.97152572,   -164.5072298 ])\n",
              "  message: 'Maximum number of iterations has been exceeded.'\n",
              "     nfev: 509\n",
              "      nit: 400\n",
              "     njev: 509\n",
              "   status: 1\n",
              "  success: False\n",
              "        x: array([ -147.26557225, 21686.32623316])"
            ]
          },
          "metadata": {
            "tags": []
          },
          "execution_count": 16
        }
      ]
    },
    {
      "cell_type": "code",
      "metadata": {
        "colab": {
          "base_uri": "https://localhost:8080/"
        },
        "id": "hItvi0JqoqaP",
        "outputId": "2d9ec5c0-ecf0-487c-fa3a-92c26ad0897f"
      },
      "source": [
        "optimize.minimize(f3, [-5, 5], method=\"BFGS\", jac=jacobian_f3,tol = 0.00001) "
      ],
      "execution_count": null,
      "outputs": [
        {
          "output_type": "execute_result",
          "data": {
            "text/plain": [
              "      fun: 2.559266696665325\n",
              " hess_inv: array([[0.37920583, 0.00142532],\n",
              "       [0.00142532, 0.08671157]])\n",
              "      jac: array([ 5.85971657e-06, -3.04006315e-06])\n",
              "  message: 'Optimization terminated successfully.'\n",
              "     nfev: 26\n",
              "      nit: 22\n",
              "     njev: 26\n",
              "   status: 0\n",
              "  success: True\n",
              "        x: array([-3.46571301e-01, -2.63969380e-07])"
            ]
          },
          "metadata": {
            "tags": []
          },
          "execution_count": 15
        }
      ]
    },
    {
      "cell_type": "code",
      "metadata": {
        "id": "x8tiepSm53TH"
      },
      "source": [
        ""
      ],
      "execution_count": null,
      "outputs": []
    }
  ]
}